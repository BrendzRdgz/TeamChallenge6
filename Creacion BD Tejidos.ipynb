{
 "cells": [
  {
   "cell_type": "code",
   "execution_count": 2,
   "metadata": {},
   "outputs": [],
   "source": [
    "import pandas as pd\n",
    "import sqlite3"
   ]
  },
  {
   "cell_type": "code",
   "execution_count": 3,
   "metadata": {},
   "outputs": [],
   "source": [
    "# Conexión a la base de datos y creacion implicta de la mmisma si no existiera previamente\n",
    "conexion = sqlite3.connect(\"C:/Users/Usuario/Desktop/REPOS/TeamChallenger6/Base de Datos/Tejidos.db\")\n",
    "cursor = conexion.cursor()"
   ]
  },
  {
   "cell_type": "code",
   "execution_count": 5,
   "metadata": {},
   "outputs": [
    {
     "data": {
      "text/plain": [
       "<sqlite3.Cursor at 0x211c67ab5c0>"
      ]
     },
     "execution_count": 5,
     "metadata": {},
     "output_type": "execute_result"
    }
   ],
   "source": [
    "# Creamos la tabla Proveedor\n",
    "query = '''\n",
    "CREATE TABLE Proveedor (\n",
    "    ID_Proveedor INTEGER PRIMARY KEY,\n",
    "    Nombre TEXT,\n",
    "    Direccion TEXT,\n",
    "    Ciudad TEXT,\n",
    "    Provincia TEXT\n",
    ")\n",
    "'''\n",
    "cursor.execute(query)"
   ]
  },
  {
   "cell_type": "code",
   "execution_count": 8,
   "metadata": {},
   "outputs": [
    {
     "data": {
      "text/plain": [
       "<sqlite3.Cursor at 0x211c67ab5c0>"
      ]
     },
     "execution_count": 8,
     "metadata": {},
     "output_type": "execute_result"
    }
   ],
   "source": [
    "# Creamos la tabla Categoria\n",
    "query = '''\n",
    "CREATE TABLE Categoria (\n",
    "    ID_Categoria INTEGER PRIMARY KEY,\n",
    "    Nombre TEXT)\n",
    "'''\n",
    "cursor.execute(query)"
   ]
  },
  {
   "cell_type": "code",
   "execution_count": 10,
   "metadata": {},
   "outputs": [
    {
     "data": {
      "text/plain": [
       "<sqlite3.Cursor at 0x211c67ab5c0>"
      ]
     },
     "execution_count": 10,
     "metadata": {},
     "output_type": "execute_result"
    }
   ],
   "source": [
    "# Creamos la tabla Producto\n",
    "query = '''\n",
    "CREATE TABLE Producto (\n",
    "    ID_Producto INTEGER PRIMARY KEY,\n",
    "    Nombre TEXT,\n",
    "    Color TEXT,\n",
    "    Precio REAL,\n",
    "    ID_Categoria INTEGER,\n",
    "    FOREIGN KEY (ID_Categoria) REFERENCES Categoria(ID_Categoria)\n",
    ")\n",
    "'''\n",
    "cursor.execute(query)"
   ]
  },
  {
   "cell_type": "code",
   "execution_count": 11,
   "metadata": {},
   "outputs": [
    {
     "data": {
      "text/plain": [
       "<sqlite3.Cursor at 0x211c67ab5c0>"
      ]
     },
     "execution_count": 11,
     "metadata": {},
     "output_type": "execute_result"
    }
   ],
   "source": [
    "# Creamos la tabla Pedido\n",
    "query = '''\n",
    "CREATE TABLE Pedido (\n",
    "    ID_Pedido INTEGER PRIMARY KEY,\n",
    "    Fecha_pedido DATE,\n",
    "    Fecha_entrega DATE,\n",
    "    ID_Proveedor INTEGER,\n",
    "    FOREIGN KEY (ID_Proveedor) REFERENCES Proveedor(ID_Proveedor)\n",
    "    )\n",
    "'''\n",
    "cursor.execute(query)"
   ]
  },
  {
   "cell_type": "code",
   "execution_count": 12,
   "metadata": {},
   "outputs": [
    {
     "data": {
      "text/plain": [
       "<sqlite3.Cursor at 0x211c67ab5c0>"
      ]
     },
     "execution_count": 12,
     "metadata": {},
     "output_type": "execute_result"
    }
   ],
   "source": [
    "# Creamos la tabla LineaCesta\n",
    "query = '''\n",
    "CREATE TABLE LineaCesta (\n",
    "    ID_LineaCesta INTEGER PRIMARY KEY,\n",
    "    Cantidad INTEGER,\n",
    "    Fecha_pedido DATE,\n",
    "    Fecha_entrega DATE,\n",
    "    ID_Producto INTEGER,\n",
    "    ID_Pedido INTEGER,\n",
    "    FOREIGN KEY (ID_Producto) REFERENCES Producto(ID_Producto)\n",
    "    FOREIGN KEY (ID_Pedido) REFERENCES Pedido(ID_Pedido)\n",
    "    )\n",
    "'''\n",
    "cursor.execute(query)"
   ]
  },
  {
   "cell_type": "code",
   "execution_count": 16,
   "metadata": {},
   "outputs": [
    {
     "data": {
      "text/plain": [
       "<sqlite3.Cursor at 0x211c67ab5c0>"
      ]
     },
     "execution_count": 16,
     "metadata": {},
     "output_type": "execute_result"
    }
   ],
   "source": [
    "# Creamos la Catalogo\n",
    "query = '''\n",
    "CREATE TABLE Catalogo (\n",
    "    ID_Producto INTEGER,\n",
    "    ID_Proveedor INTEGER,\n",
    "    FOREIGN KEY (ID_Producto) REFERENCES Producto(ID_Producto)\n",
    "    FOREIGN KEY (ID_Proveedor) REFERENCES Pedido(ID_Proveedor)\n",
    "    CONSTRAINT ID_Catalogo PRIMARY KEY (ID_Producto, ID_Proveedor)   \n",
    "    )\n",
    "'''\n",
    "cursor.execute(query)"
   ]
  },
  {
   "cell_type": "code",
   "execution_count": 17,
   "metadata": {},
   "outputs": [
    {
     "data": {
      "text/plain": [
       "[('table',\n",
       "  'Proveedor',\n",
       "  'Proveedor',\n",
       "  2,\n",
       "  'CREATE TABLE Proveedor (\\n    ID_Proveedor INTEGER PRIMARY KEY,\\n    Nombre TEXT,\\n    Direccion TEXT,\\n    Ciudad TEXT,\\n    Provincia TEXT\\n)'),\n",
       " ('table',\n",
       "  'Categoria',\n",
       "  'Categoria',\n",
       "  3,\n",
       "  'CREATE TABLE Categoria (\\n    ID_Categoria INTEGER PRIMARY KEY,\\n    Nombre TEXT)'),\n",
       " ('table',\n",
       "  'Producto',\n",
       "  'Producto',\n",
       "  4,\n",
       "  'CREATE TABLE Producto (\\n    ID_Producto INTEGER PRIMARY KEY,\\n    Nombre TEXT,\\n    Color TEXT,\\n    Precio REAL,\\n    ID_Categoria INTEGER,\\n    FOREIGN KEY (ID_Categoria) REFERENCES Categoria(ID_Categoria)\\n)'),\n",
       " ('table',\n",
       "  'Pedido',\n",
       "  'Pedido',\n",
       "  5,\n",
       "  'CREATE TABLE Pedido (\\n    ID_Pedido INTEGER PRIMARY KEY,\\n    Fecha_pedido DATE,\\n    Fecha_entrega DATE,\\n    ID_Proveedor INTEGER,\\n    FOREIGN KEY (ID_Proveedor) REFERENCES Proveedor(ID_Proveedor)\\n    )'),\n",
       " ('table',\n",
       "  'LineaCesta',\n",
       "  'LineaCesta',\n",
       "  6,\n",
       "  'CREATE TABLE LineaCesta (\\n    ID_LineaCesta INTEGER PRIMARY KEY,\\n    Cantidad INTEGER,\\n    Fecha_pedido DATE,\\n    Fecha_entrega DATE,\\n    ID_Producto INTEGER,\\n    ID_Pedido INTEGER,\\n    FOREIGN KEY (ID_Producto) REFERENCES Producto(ID_Producto)\\n    FOREIGN KEY (ID_Pedido) REFERENCES Pedido(ID_Pedido)\\n    )'),\n",
       " ('table',\n",
       "  'Catalogo',\n",
       "  'Catalogo',\n",
       "  7,\n",
       "  'CREATE TABLE Catalogo (\\n    ID_Producto INTEGER,\\n    ID_Proveedor INTEGER,\\n    FOREIGN KEY (ID_Producto) REFERENCES Producto(ID_Producto)\\n    FOREIGN KEY (ID_Proveedor) REFERENCES Pedido(ID_Proveedor)\\n    CONSTRAINT ID_Catalogo PRIMARY KEY (ID_Producto, ID_Proveedor)   \\n    )'),\n",
       " ('index', 'sqlite_autoindex_Catalogo_1', 'Catalogo', 8, None)]"
      ]
     },
     "execution_count": 17,
     "metadata": {},
     "output_type": "execute_result"
    }
   ],
   "source": [
    "query = '''\n",
    "SELECT * \n",
    "FROM sqlite_master\n",
    "'''\n",
    "res = cursor.execute(query)\n",
    "res.fetchall()"
   ]
  }
 ],
 "metadata": {
  "kernelspec": {
   "display_name": "Python 3",
   "language": "python",
   "name": "python3"
  },
  "language_info": {
   "codemirror_mode": {
    "name": "ipython",
    "version": 3
   },
   "file_extension": ".py",
   "mimetype": "text/x-python",
   "name": "python",
   "nbconvert_exporter": "python",
   "pygments_lexer": "ipython3",
   "version": "3.10.11"
  }
 },
 "nbformat": 4,
 "nbformat_minor": 2
}
